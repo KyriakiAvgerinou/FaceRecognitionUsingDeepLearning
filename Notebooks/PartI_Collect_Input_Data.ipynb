{
 "cells": [
  {
   "cell_type": "markdown",
   "metadata": {
    "id": "dL2XpsFrt0As"
   },
   "source": [
    "## CSCI S-89 Introduction to Deep Learning\n",
    "Harvard Summer School 2025"
   ]
  },
  {
   "cell_type": "markdown",
   "metadata": {
    "id": "CdHImPpGs2bS"
   },
   "source": [
    "# Final Project:\n",
    "# *Face Recognition with Deep Learning*"
   ]
  },
  {
   "cell_type": "markdown",
   "metadata": {
    "id": "bNYMZbIiZRd1"
   },
   "source": [
    "The goal of this project is to detect human faces in images and recognize who the faces belong to from a predefined group of people."
   ]
  },
  {
   "cell_type": "markdown",
   "metadata": {
    "id": "yjFS0pyDavqs"
   },
   "source": [
    "# Part I: **Collect Input Data**"
   ]
  },
  {
   "cell_type": "markdown",
   "metadata": {
    "id": "kk-5LaQMBTyd"
   },
   "source": [
    "For this project we will use Kaggle's Face Recognition Dataset (https://www.kaggle.com/datasets/vasukipatel/face-recognition-dataset/data). We will use this data to train and validate our model."
   ]
  },
  {
   "cell_type": "markdown",
   "metadata": {
    "id": "2UcTUmsilFLY"
   },
   "source": [
    "To personalize the project and make it more engaging, we will also add a few pictures of myself, my friends, and family to the input dataset. These pictures will be used to enhance the training, testing, and validation of the model. I will take new pictures for this purpose using my webcam. I will also use some older pictures I have. To access the webcam and take the pictures, I will run the following code on my local machine, not Google Colab. I will be collecting 80 pictures for each person."
   ]
  },
  {
   "cell_type": "code",
   "execution_count": null,
   "metadata": {
    "id": "oMSGOwfodP4c"
   },
   "outputs": [],
   "source": [
    "import cv2\n",
    "import os\n",
    "\n",
    "# Collect face images using the webcam.\n",
    "# I run this locally on my laptop.\n",
    "# Not on Google Colab.\n",
    "\n",
    "# Set the label for the face (the name of the person).\n",
    "# We will use this to name the folder where we will save the pictures\n",
    "# and name the pictures themselves.\n",
    "face_label = 'Persons_Name'\n",
    "folder_name = face_label # We will store the images in this folder.\n",
    "os.mkdir(folder_name) # Make folder if it doesn't exist.\n",
    "\n",
    "counter = 0 # This will help us name the pictures Persons_Name_0.jpg, Persons_Name_1.jpg, ...\n",
    "\n",
    "# Start webcam.\n",
    "webcam = cv2.VideoCapture(0)\n",
    "\n",
    "# While webcam is open...\n",
    "while webcam.isOpened():\n",
    "  # ... take a frame.\n",
    "  _, frame = webcam.read()\n",
    "\n",
    "  # Make the frame 224x224.\n",
    "  # We will need this size for our model.\n",
    "  frame = frame[120:120+224, 200:200+224]\n",
    "\n",
    "  # Show the frame on the screen.\n",
    "  cv2.imshow('Webcam', frame)\n",
    "\n",
    "  # When pressing 'k', save the current frame.\n",
    "  if cv2.waitKey(1) & 0XFF == ord('k'):\n",
    "    imgname = os.path.join(folder_name, f'{face_label}_{counter}.jpg')\n",
    "    counter += 1\n",
    "    cv2.imwrite(imgname, frame)\n",
    "\n",
    "  # When pressing 'q', break out of the loop.\n",
    "  if cv2.waitKey(1) & 0XFF == ord('q'):\n",
    "    break\n",
    "\n",
    "# Close webcam.\n",
    "webcam.release()\n",
    "\n",
    "# Close all OpenCV windows.\n",
    "cv2.destroyAllWindows()"
   ]
  }
 ],
 "metadata": {
  "accelerator": "GPU",
  "colab": {
   "gpuType": "T4",
   "machine_shape": "hm",
   "provenance": []
  },
  "kernelspec": {
   "display_name": "Python 3 (ipykernel)",
   "language": "python",
   "name": "python3"
  },
  "language_info": {
   "codemirror_mode": {
    "name": "ipython",
    "version": 3
   },
   "file_extension": ".py",
   "mimetype": "text/x-python",
   "name": "python",
   "nbconvert_exporter": "python",
   "pygments_lexer": "ipython3",
   "version": "3.10.9"
  }
 },
 "nbformat": 4,
 "nbformat_minor": 1
}
