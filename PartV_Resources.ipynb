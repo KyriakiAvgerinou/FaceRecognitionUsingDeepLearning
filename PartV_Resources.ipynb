{
 "cells": [
  {
   "cell_type": "markdown",
   "metadata": {
    "id": "dL2XpsFrt0As"
   },
   "source": [
    "## CSCI S-89 Introduction to Deep Learning\n",
    "Harvard Summer School 2025"
   ]
  },
  {
   "cell_type": "markdown",
   "metadata": {
    "id": "CdHImPpGs2bS"
   },
   "source": [
    "# Final Project:\n",
    "# *Face Recognition with Deep Learning*"
   ]
  },
  {
   "cell_type": "markdown",
   "metadata": {
    "id": "bNYMZbIiZRd1"
   },
   "source": [
    "The goal of this project is to detect human faces in images and recognize who the faces belong to from a predefined group of people."
   ]
  },
  {
   "cell_type": "markdown",
   "metadata": {
    "id": "0rCnY9Z3RTW8"
   },
   "source": [
    "# Part V: **Resources**"
   ]
  },
  {
   "cell_type": "markdown",
   "metadata": {
    "id": "Mo9p3Lr1RgFw"
   },
   "source": [
    "[1]   Jawabreh, Ahmad. \"Explore the most advanced deep learning algorithm for face detection\". Medium, 1 Apr. 2023, https://medium.com/the-modern-scientist/multi-task-cascaded-convolutional-neural-network-mtcnn-a31d88f501c8.<br><br>\n",
    "[2]   Tensorflow. \"Image classification\". Tensorflow, https://www.tensorflow.org/tutorials/images/classification.<br><br>\n",
    "[3]   Lee, Wei-Meng. \"Implementing Face Recognition Using Deep Learning and Support Vector Machines\". CODE Magazine, May/June 2022, https://www.codemag.com/Article/2205081/Implementing-Face-Recognition-Using-Deep-Learning-and-Support-Vector-Machines.<br><br>\n",
    "[4]   Tsang, Sik-Ho. \"Review: MobileNetV2 - Light Weight Model (Image Classification)\". Medium, 19 May 2019, https://medium.com/data-science/review-mobilenetv2-light-weight-model-image-classification-8febb490e61c.<br><br>\n",
    "[5]   Behairy, Ahmed. \"Face Detection and Recognition\". Kaggle, 16 Sep. 2024, https://www.kaggle.com/code/ahmedbehairyy/face-detection-and-recognition<br><br>\n",
    "[6]   Görkem Çelebiler, Kerim. \"Face Recognition with CNN\". Kaggle, 26 Jun. 2021, https://www.kaggle.com/code/kerimelebiler/face-recognition-with-cnn/notebook<br><br>\n",
    "\n",
    "Also Assignment 3 of the CSCI S-89 Introduction to Deep Learning course at Harvard Summer School really helped me in the implementation of this project."
   ]
  },
  {
   "cell_type": "code",
   "execution_count": null,
   "metadata": {
    "id": "N19jaOUviCsG"
   },
   "outputs": [],
   "source": []
  }
 ],
 "metadata": {
  "accelerator": "GPU",
  "colab": {
   "gpuType": "T4",
   "machine_shape": "hm",
   "provenance": []
  },
  "kernelspec": {
   "display_name": "Python 3 (ipykernel)",
   "language": "python",
   "name": "python3"
  },
  "language_info": {
   "codemirror_mode": {
    "name": "ipython",
    "version": 3
   },
   "file_extension": ".py",
   "mimetype": "text/x-python",
   "name": "python",
   "nbconvert_exporter": "python",
   "pygments_lexer": "ipython3",
   "version": "3.10.9"
  }
 },
 "nbformat": 4,
 "nbformat_minor": 1
}
